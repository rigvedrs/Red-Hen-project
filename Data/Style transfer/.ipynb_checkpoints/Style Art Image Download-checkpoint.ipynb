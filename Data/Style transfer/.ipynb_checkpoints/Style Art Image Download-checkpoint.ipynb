{
 "cells": [
  {
   "cell_type": "code",
   "execution_count": 1,
   "id": "c2411724",
   "metadata": {},
   "outputs": [],
   "source": [
    "import pandas as pd\n",
    "import requests\n",
    "import os\n",
    "import random"
   ]
  },
  {
   "cell_type": "code",
   "execution_count": 3,
   "id": "4e3d9d4f",
   "metadata": {},
   "outputs": [],
   "source": [
    "file_path = '../csv_files/metadata_v2.csv'\n",
    "\n",
    "# Read the CSV file into a Pandas DataFrame\n",
    "df = pd.read_csv(file_path)"
   ]
  },
  {
   "cell_type": "code",
   "execution_count": 4,
   "id": "b66e9996",
   "metadata": {
    "scrolled": true
   },
   "outputs": [
    {
     "data": {
      "text/html": [
       "<div>\n",
       "<style scoped>\n",
       "    .dataframe tbody tr th:only-of-type {\n",
       "        vertical-align: middle;\n",
       "    }\n",
       "\n",
       "    .dataframe tbody tr th {\n",
       "        vertical-align: top;\n",
       "    }\n",
       "\n",
       "    .dataframe thead th {\n",
       "        text-align: right;\n",
       "    }\n",
       "</style>\n",
       "<table border=\"1\" class=\"dataframe\">\n",
       "  <thead>\n",
       "    <tr style=\"text-align: right;\">\n",
       "      <th></th>\n",
       "      <th>ARTIST</th>\n",
       "      <th>TITLE</th>\n",
       "      <th>METADATA_URL</th>\n",
       "      <th>IMAGE_LINK</th>\n",
       "      <th>IMAGE_NAME</th>\n",
       "      <th>DESCRIPTION</th>\n",
       "      <th>TIMEFRAME</th>\n",
       "      <th>TECHNIQUE</th>\n",
       "      <th>valid</th>\n",
       "    </tr>\n",
       "  </thead>\n",
       "  <tbody>\n",
       "    <tr>\n",
       "      <th>0</th>\n",
       "      <td>AERTSEN, Pieter</td>\n",
       "      <td>Apostles Peter and John</td>\n",
       "      <td>https://www.wga.hu/html/a/aertsen/apostles.html</td>\n",
       "      <td>https://www.wga.hu/detail/a/aertsen/apostles.jpg</td>\n",
       "      <td>web_gallery_aaertsenapostles.jpg</td>\n",
       "      <td>Earlier the painting was attributed to Joachim...</td>\n",
       "      <td>1501-1550</td>\n",
       "      <td>Oil on wood, 55,5 x 76 cm cm</td>\n",
       "      <td>200.0</td>\n",
       "    </tr>\n",
       "    <tr>\n",
       "      <th>1</th>\n",
       "      <td>AERTSEN, Pieter</td>\n",
       "      <td>Christ in the House of Martha and Mary</td>\n",
       "      <td>https://www.wga.hu/html/a/aertsen/christ_m.html</td>\n",
       "      <td>https://www.wga.hu/detail/a/aertsen/christ_m.jpg</td>\n",
       "      <td>web_gallery_aaertsenchrist_m.jpg</td>\n",
       "      <td>A kitchen scene combined with a religious subj...</td>\n",
       "      <td>1501-1550</td>\n",
       "      <td>Oil on panel, 126 x 200 cm</td>\n",
       "      <td>200.0</td>\n",
       "    </tr>\n",
       "    <tr>\n",
       "      <th>2</th>\n",
       "      <td>AGABITI, Pietro Paolo</td>\n",
       "      <td>Virgin Enthroned between Sts John the Baptist ...</td>\n",
       "      <td>https://www.wga.hu/html/a/agabiti/altar1.html</td>\n",
       "      <td>https://www.wga.hu/detail/a/agabiti/altar1.jpg</td>\n",
       "      <td>web_gallery_aagabitialtar1.jpg</td>\n",
       "      <td>This is the central piece of an altarpiece. Th...</td>\n",
       "      <td>1501-1550</td>\n",
       "      <td>Oil on wood</td>\n",
       "      <td>200.0</td>\n",
       "    </tr>\n",
       "    <tr>\n",
       "      <th>3</th>\n",
       "      <td>AGABITI, Pietro Paolo</td>\n",
       "      <td>Sts Sebastian and Roch</td>\n",
       "      <td>https://www.wga.hu/html/a/agabiti/altar32.html</td>\n",
       "      <td>https://www.wga.hu/detail/a/agabiti/altar32.jpg</td>\n",
       "      <td>web_gallery_aagabitialtar32.jpg</td>\n",
       "      <td>This is one of the four predella scenes belong...</td>\n",
       "      <td>1501-1550</td>\n",
       "      <td>Oil on wood</td>\n",
       "      <td>200.0</td>\n",
       "    </tr>\n",
       "    <tr>\n",
       "      <th>4</th>\n",
       "      <td>AGABITI, Pietro Paolo</td>\n",
       "      <td>St Jerome in the Desert</td>\n",
       "      <td>https://www.wga.hu/html/a/agabiti/altar33.html</td>\n",
       "      <td>https://www.wga.hu/detail/a/agabiti/altar33.jpg</td>\n",
       "      <td>web_gallery_aagabitialtar33.jpg</td>\n",
       "      <td>This is one of the four predella scenes belong...</td>\n",
       "      <td>1501-1550</td>\n",
       "      <td>Oil on wood</td>\n",
       "      <td>200.0</td>\n",
       "    </tr>\n",
       "  </tbody>\n",
       "</table>\n",
       "</div>"
      ],
      "text/plain": [
       "                  ARTIST                                              TITLE  \\\n",
       "0        AERTSEN, Pieter                            Apostles Peter and John   \n",
       "1        AERTSEN, Pieter             Christ in the House of Martha and Mary   \n",
       "2  AGABITI, Pietro Paolo  Virgin Enthroned between Sts John the Baptist ...   \n",
       "3  AGABITI, Pietro Paolo                             Sts Sebastian and Roch   \n",
       "4  AGABITI, Pietro Paolo                            St Jerome in the Desert   \n",
       "\n",
       "                                      METADATA_URL  \\\n",
       "0  https://www.wga.hu/html/a/aertsen/apostles.html   \n",
       "1  https://www.wga.hu/html/a/aertsen/christ_m.html   \n",
       "2    https://www.wga.hu/html/a/agabiti/altar1.html   \n",
       "3   https://www.wga.hu/html/a/agabiti/altar32.html   \n",
       "4   https://www.wga.hu/html/a/agabiti/altar33.html   \n",
       "\n",
       "                                         IMAGE_LINK  \\\n",
       "0  https://www.wga.hu/detail/a/aertsen/apostles.jpg   \n",
       "1  https://www.wga.hu/detail/a/aertsen/christ_m.jpg   \n",
       "2    https://www.wga.hu/detail/a/agabiti/altar1.jpg   \n",
       "3   https://www.wga.hu/detail/a/agabiti/altar32.jpg   \n",
       "4   https://www.wga.hu/detail/a/agabiti/altar33.jpg   \n",
       "\n",
       "                         IMAGE_NAME  \\\n",
       "0  web_gallery_aaertsenapostles.jpg   \n",
       "1  web_gallery_aaertsenchrist_m.jpg   \n",
       "2    web_gallery_aagabitialtar1.jpg   \n",
       "3   web_gallery_aagabitialtar32.jpg   \n",
       "4   web_gallery_aagabitialtar33.jpg   \n",
       "\n",
       "                                         DESCRIPTION  TIMEFRAME  \\\n",
       "0  Earlier the painting was attributed to Joachim...  1501-1550   \n",
       "1  A kitchen scene combined with a religious subj...  1501-1550   \n",
       "2  This is the central piece of an altarpiece. Th...  1501-1550   \n",
       "3  This is one of the four predella scenes belong...  1501-1550   \n",
       "4  This is one of the four predella scenes belong...  1501-1550   \n",
       "\n",
       "                      TECHNIQUE  valid  \n",
       "0  Oil on wood, 55,5 x 76 cm cm  200.0  \n",
       "1    Oil on panel, 126 x 200 cm  200.0  \n",
       "2                   Oil on wood  200.0  \n",
       "3                   Oil on wood  200.0  \n",
       "4                   Oil on wood  200.0  "
      ]
     },
     "execution_count": 4,
     "metadata": {},
     "output_type": "execute_result"
    }
   ],
   "source": [
    "df.head()"
   ]
  },
  {
   "cell_type": "code",
   "execution_count": null,
   "id": "61aab6e0",
   "metadata": {},
   "outputs": [],
   "source": [
    "# Cnverting the links in METADATA_URL to obtain the original size image links and saving in a new column"
   ]
  },
  {
   "cell_type": "code",
   "execution_count": 9,
   "id": "5f77d131",
   "metadata": {
    "scrolled": true
   },
   "outputs": [
    {
     "data": {
      "text/plain": [
       "'https://www.wga.hu/html/a/aertsen/apostles.html'"
      ]
     },
     "execution_count": 9,
     "metadata": {},
     "output_type": "execute_result"
    }
   ],
   "source": [
    "'https://www.wga.hu/html/a/aertsen/apostles.html'"
   ]
  },
  {
   "cell_type": "code",
   "execution_count": 7,
   "id": "0168472d",
   "metadata": {},
   "outputs": [
    {
     "data": {
      "text/plain": [
       "'https://www.wga.hu/art/a/aertsen/apostles.jpg'"
      ]
     },
     "execution_count": 7,
     "metadata": {},
     "output_type": "execute_result"
    }
   ],
   "source": [
    "'https://www.wga.hu/art/a/aertsen/apostles.jpg'"
   ]
  },
  {
   "cell_type": "code",
   "execution_count": 10,
   "id": "1e563c08",
   "metadata": {},
   "outputs": [],
   "source": [
    "def convert_metadata_url(metadata_url):\n",
    "    # Replace the URL path and file extension\n",
    "    image_link = metadata_url.replace('/html', '/art').replace('.html', '.jpg')\n",
    "    return image_link\n",
    "\n",
    "# Apply the conversion function to create the 'HQ_IMAGE_LINK' column\n",
    "df['HQ_IMAGE_LINK'] = df['METADATA_URL'].apply(convert_metadata_url)"
   ]
  },
  {
   "cell_type": "code",
   "execution_count": 11,
   "id": "2bc30c5a",
   "metadata": {},
   "outputs": [
    {
     "data": {
      "text/html": [
       "<div>\n",
       "<style scoped>\n",
       "    .dataframe tbody tr th:only-of-type {\n",
       "        vertical-align: middle;\n",
       "    }\n",
       "\n",
       "    .dataframe tbody tr th {\n",
       "        vertical-align: top;\n",
       "    }\n",
       "\n",
       "    .dataframe thead th {\n",
       "        text-align: right;\n",
       "    }\n",
       "</style>\n",
       "<table border=\"1\" class=\"dataframe\">\n",
       "  <thead>\n",
       "    <tr style=\"text-align: right;\">\n",
       "      <th></th>\n",
       "      <th>ARTIST</th>\n",
       "      <th>TITLE</th>\n",
       "      <th>METADATA_URL</th>\n",
       "      <th>IMAGE_LINK</th>\n",
       "      <th>IMAGE_NAME</th>\n",
       "      <th>DESCRIPTION</th>\n",
       "      <th>TIMEFRAME</th>\n",
       "      <th>TECHNIQUE</th>\n",
       "      <th>valid</th>\n",
       "      <th>HQ_IMAGE_LINK</th>\n",
       "    </tr>\n",
       "  </thead>\n",
       "  <tbody>\n",
       "    <tr>\n",
       "      <th>0</th>\n",
       "      <td>AERTSEN, Pieter</td>\n",
       "      <td>Apostles Peter and John</td>\n",
       "      <td>https://www.wga.hu/html/a/aertsen/apostles.html</td>\n",
       "      <td>https://www.wga.hu/detail/a/aertsen/apostles.jpg</td>\n",
       "      <td>web_gallery_aaertsenapostles.jpg</td>\n",
       "      <td>Earlier the painting was attributed to Joachim...</td>\n",
       "      <td>1501-1550</td>\n",
       "      <td>Oil on wood, 55,5 x 76 cm cm</td>\n",
       "      <td>200.0</td>\n",
       "      <td>https://www.wga.hu/art/a/aertsen/apostles.jpg</td>\n",
       "    </tr>\n",
       "    <tr>\n",
       "      <th>1</th>\n",
       "      <td>AERTSEN, Pieter</td>\n",
       "      <td>Christ in the House of Martha and Mary</td>\n",
       "      <td>https://www.wga.hu/html/a/aertsen/christ_m.html</td>\n",
       "      <td>https://www.wga.hu/detail/a/aertsen/christ_m.jpg</td>\n",
       "      <td>web_gallery_aaertsenchrist_m.jpg</td>\n",
       "      <td>A kitchen scene combined with a religious subj...</td>\n",
       "      <td>1501-1550</td>\n",
       "      <td>Oil on panel, 126 x 200 cm</td>\n",
       "      <td>200.0</td>\n",
       "      <td>https://www.wga.hu/art/a/aertsen/christ_m.jpg</td>\n",
       "    </tr>\n",
       "    <tr>\n",
       "      <th>2</th>\n",
       "      <td>AGABITI, Pietro Paolo</td>\n",
       "      <td>Virgin Enthroned between Sts John the Baptist ...</td>\n",
       "      <td>https://www.wga.hu/html/a/agabiti/altar1.html</td>\n",
       "      <td>https://www.wga.hu/detail/a/agabiti/altar1.jpg</td>\n",
       "      <td>web_gallery_aagabitialtar1.jpg</td>\n",
       "      <td>This is the central piece of an altarpiece. Th...</td>\n",
       "      <td>1501-1550</td>\n",
       "      <td>Oil on wood</td>\n",
       "      <td>200.0</td>\n",
       "      <td>https://www.wga.hu/art/a/agabiti/altar1.jpg</td>\n",
       "    </tr>\n",
       "    <tr>\n",
       "      <th>3</th>\n",
       "      <td>AGABITI, Pietro Paolo</td>\n",
       "      <td>Sts Sebastian and Roch</td>\n",
       "      <td>https://www.wga.hu/html/a/agabiti/altar32.html</td>\n",
       "      <td>https://www.wga.hu/detail/a/agabiti/altar32.jpg</td>\n",
       "      <td>web_gallery_aagabitialtar32.jpg</td>\n",
       "      <td>This is one of the four predella scenes belong...</td>\n",
       "      <td>1501-1550</td>\n",
       "      <td>Oil on wood</td>\n",
       "      <td>200.0</td>\n",
       "      <td>https://www.wga.hu/art/a/agabiti/altar32.jpg</td>\n",
       "    </tr>\n",
       "    <tr>\n",
       "      <th>4</th>\n",
       "      <td>AGABITI, Pietro Paolo</td>\n",
       "      <td>St Jerome in the Desert</td>\n",
       "      <td>https://www.wga.hu/html/a/agabiti/altar33.html</td>\n",
       "      <td>https://www.wga.hu/detail/a/agabiti/altar33.jpg</td>\n",
       "      <td>web_gallery_aagabitialtar33.jpg</td>\n",
       "      <td>This is one of the four predella scenes belong...</td>\n",
       "      <td>1501-1550</td>\n",
       "      <td>Oil on wood</td>\n",
       "      <td>200.0</td>\n",
       "      <td>https://www.wga.hu/art/a/agabiti/altar33.jpg</td>\n",
       "    </tr>\n",
       "  </tbody>\n",
       "</table>\n",
       "</div>"
      ],
      "text/plain": [
       "                  ARTIST                                              TITLE  \\\n",
       "0        AERTSEN, Pieter                            Apostles Peter and John   \n",
       "1        AERTSEN, Pieter             Christ in the House of Martha and Mary   \n",
       "2  AGABITI, Pietro Paolo  Virgin Enthroned between Sts John the Baptist ...   \n",
       "3  AGABITI, Pietro Paolo                             Sts Sebastian and Roch   \n",
       "4  AGABITI, Pietro Paolo                            St Jerome in the Desert   \n",
       "\n",
       "                                      METADATA_URL  \\\n",
       "0  https://www.wga.hu/html/a/aertsen/apostles.html   \n",
       "1  https://www.wga.hu/html/a/aertsen/christ_m.html   \n",
       "2    https://www.wga.hu/html/a/agabiti/altar1.html   \n",
       "3   https://www.wga.hu/html/a/agabiti/altar32.html   \n",
       "4   https://www.wga.hu/html/a/agabiti/altar33.html   \n",
       "\n",
       "                                         IMAGE_LINK  \\\n",
       "0  https://www.wga.hu/detail/a/aertsen/apostles.jpg   \n",
       "1  https://www.wga.hu/detail/a/aertsen/christ_m.jpg   \n",
       "2    https://www.wga.hu/detail/a/agabiti/altar1.jpg   \n",
       "3   https://www.wga.hu/detail/a/agabiti/altar32.jpg   \n",
       "4   https://www.wga.hu/detail/a/agabiti/altar33.jpg   \n",
       "\n",
       "                         IMAGE_NAME  \\\n",
       "0  web_gallery_aaertsenapostles.jpg   \n",
       "1  web_gallery_aaertsenchrist_m.jpg   \n",
       "2    web_gallery_aagabitialtar1.jpg   \n",
       "3   web_gallery_aagabitialtar32.jpg   \n",
       "4   web_gallery_aagabitialtar33.jpg   \n",
       "\n",
       "                                         DESCRIPTION  TIMEFRAME  \\\n",
       "0  Earlier the painting was attributed to Joachim...  1501-1550   \n",
       "1  A kitchen scene combined with a religious subj...  1501-1550   \n",
       "2  This is the central piece of an altarpiece. Th...  1501-1550   \n",
       "3  This is one of the four predella scenes belong...  1501-1550   \n",
       "4  This is one of the four predella scenes belong...  1501-1550   \n",
       "\n",
       "                      TECHNIQUE  valid  \\\n",
       "0  Oil on wood, 55,5 x 76 cm cm  200.0   \n",
       "1    Oil on panel, 126 x 200 cm  200.0   \n",
       "2                   Oil on wood  200.0   \n",
       "3                   Oil on wood  200.0   \n",
       "4                   Oil on wood  200.0   \n",
       "\n",
       "                                   HQ_IMAGE_LINK  \n",
       "0  https://www.wga.hu/art/a/aertsen/apostles.jpg  \n",
       "1  https://www.wga.hu/art/a/aertsen/christ_m.jpg  \n",
       "2    https://www.wga.hu/art/a/agabiti/altar1.jpg  \n",
       "3   https://www.wga.hu/art/a/agabiti/altar32.jpg  \n",
       "4   https://www.wga.hu/art/a/agabiti/altar33.jpg  "
      ]
     },
     "execution_count": 11,
     "metadata": {},
     "output_type": "execute_result"
    }
   ],
   "source": [
    "df.head()"
   ]
  },
  {
   "cell_type": "code",
   "execution_count": 20,
   "id": "bfb65c75",
   "metadata": {},
   "outputs": [
    {
     "data": {
      "text/plain": [
       "1709"
      ]
     },
     "execution_count": 20,
     "metadata": {},
     "output_type": "execute_result"
    }
   ],
   "source": [
    "filtered_df = df[df['TECHNIQUE'].fillna('').str.contains('oil on canvas', case=False)]\n",
    "len(filtered_df)"
   ]
  },
  {
   "cell_type": "code",
   "execution_count": 23,
   "id": "c63c372b",
   "metadata": {},
   "outputs": [
    {
     "name": "stderr",
     "output_type": "stream",
     "text": [
      "/tmp/ipykernel_10594/3897989490.py:1: SettingWithCopyWarning: \n",
      "A value is trying to be set on a copy of a slice from a DataFrame.\n",
      "Try using .loc[row_indexer,col_indexer] = value instead\n",
      "\n",
      "See the caveats in the documentation: https://pandas.pydata.org/pandas-docs/stable/user_guide/indexing.html#returning-a-view-versus-a-copy\n",
      "  filtered_df['TECHNIQUE'] = filtered_df['TECHNIQUE'].str.split(',').str[0].str.strip()\n"
     ]
    }
   ],
   "source": [
    "filtered_df['TECHNIQUE'] = filtered_df['TECHNIQUE'].str.split(',').str[0].str.strip()"
   ]
  },
  {
   "cell_type": "code",
   "execution_count": 24,
   "id": "e7b32c8d",
   "metadata": {},
   "outputs": [
    {
     "name": "stdout",
     "output_type": "stream",
     "text": [
      "Oil on canvas\n",
      "Oil on canvas transferred from wood\n",
      "Oil on canvas 170 x 127 cm\n",
      "Oil on canvas transferred from panel\n",
      "Tempera and oil on canvas\n",
      "Oil on canvas 125 x 100 cm\n",
      "Oil on canvas 257 x 202 cm\n",
      "Tempera and oil on canvas transferred from panel\n",
      "Oil on canvas and wood\n",
      "Oil on canvas laid down on wood\n",
      "Oil on canvas laid on board\n",
      "Oil on canvas laid down on panel\n",
      "Oil on canvas on panel\n",
      "Oil on canvas 292 x 201 cm\n",
      "Oil on canvas laid on panel\n",
      "Oil on canvas 275 x 165 cm\n",
      "Oil on canvas 250 x 225 cm\n",
      "oil on canvas\n",
      "oil on canvas transferred to canvas\n"
     ]
    }
   ],
   "source": [
    "unique_techniques = filtered_df['TECHNIQUE'].unique()\n",
    "for i in unique_techniques:\n",
    "    print(i)"
   ]
  },
  {
   "cell_type": "markdown",
   "id": "ba1592fa",
   "metadata": {},
   "source": [
    "## Downloading 5 randomly selected Images from filtered_df"
   ]
  },
  {
   "cell_type": "code",
   "execution_count": 28,
   "id": "eb8631d0",
   "metadata": {},
   "outputs": [
    {
     "name": "stdout",
     "output_type": "stream",
     "text": [
      "Image saved: oiloncanvas/St Catherine of Alexandria_Oil on canvas.jpg\n",
      "Image saved: oiloncanvas/The Presentation of the Virgin_Oil on canvas.jpg\n",
      "Image saved: oiloncanvas/Simeon with the Infant Jesus in the Temple_Oil on canvas.jpg\n",
      "Image saved: oiloncanvas/The Martyrdom of St Sebastian_Oil on canvas.jpg\n",
      "Image saved: oiloncanvas/The Martyrdom of St Stephen_Oil on canvas.jpg\n"
     ]
    }
   ],
   "source": [
    "# For reproducibility\n",
    "random.seed(10)\n",
    "\n",
    "# Shuffling and taking first five rows\n",
    "df_shuffled = filtered_df.sample(frac=1, random_state=10)\n",
    "selected_rows = df_shuffled.iloc[:5]\n",
    "\n",
    "# Create directory\n",
    "os.makedirs('oiloncanvas/', exist_ok=True)\n",
    "\n",
    "# Download and save the selected images\n",
    "for _, row in selected_rows.iterrows():\n",
    "    image_link = row['HQ_IMAGE_LINK']\n",
    "    title = row['TITLE']\n",
    "    technique = row['TECHNIQUE']\n",
    "    file_name = f\"oiloncanvas/{title}_{technique}.jpg\"\n",
    "    \n",
    "\n",
    "    response = requests.get(image_link)\n",
    "    \n",
    "    # Saving Image\n",
    "    with open(file_name, 'wb') as file:\n",
    "        file.write(response.content)\n",
    "        print(f\"Image saved: {file_name}\")"
   ]
  },
  {
   "cell_type": "code",
   "execution_count": null,
   "id": "8c112ffb",
   "metadata": {},
   "outputs": [],
   "source": []
  }
 ],
 "metadata": {
  "kernelspec": {
   "display_name": "Python 3 (ipykernel)",
   "language": "python",
   "name": "python3"
  },
  "language_info": {
   "codemirror_mode": {
    "name": "ipython",
    "version": 3
   },
   "file_extension": ".py",
   "mimetype": "text/x-python",
   "name": "python",
   "nbconvert_exporter": "python",
   "pygments_lexer": "ipython3",
   "version": "3.10.9"
  }
 },
 "nbformat": 4,
 "nbformat_minor": 5
}
