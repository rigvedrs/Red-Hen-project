{
 "cells": [
  {
   "cell_type": "code",
   "execution_count": 5,
   "id": "d487fe19",
   "metadata": {},
   "outputs": [],
   "source": [
    "import json\n",
    "import requests\n",
    "import os"
   ]
  },
  {
   "cell_type": "code",
   "execution_count": 8,
   "id": "94034960",
   "metadata": {},
   "outputs": [],
   "source": [
    "coco_json_path = '../../extra/coco_json/person_keypoints_val2017.json'\n",
    "\n",
    "with open(coco_json_path, 'r') as file:\n",
    "    coco_data = json.load(file)"
   ]
  },
  {
   "cell_type": "code",
   "execution_count": 9,
   "id": "b28f09e4",
   "metadata": {},
   "outputs": [
    {
     "data": {
      "text/plain": [
       "dict_keys(['info', 'licenses', 'images', 'annotations', 'categories'])"
      ]
     },
     "execution_count": 9,
     "metadata": {},
     "output_type": "execute_result"
    }
   ],
   "source": [
    "data.keys()"
   ]
  },
  {
   "cell_type": "code",
   "execution_count": 10,
   "id": "1aa082be",
   "metadata": {},
   "outputs": [
    {
     "name": "stdout",
     "output_type": "stream",
     "text": [
      "Image saved: coco_images//397133.jpg\n",
      "Image saved: coco_images//37777.jpg\n",
      "Image saved: coco_images//252219.jpg\n",
      "Image saved: coco_images//87038.jpg\n",
      "Image saved: coco_images//174482.jpg\n"
     ]
    }
   ],
   "source": [
    "# Directory to save the download images\n",
    "output_dir = 'coco_images/'\n",
    "\n",
    "# Create the output directory \n",
    "os.makedirs(output_dir, exist_ok=True)\n",
    "\n",
    "# Get the list of images\n",
    "images = coco_data['images']\n",
    "\n",
    "# Download the first five images\n",
    "for i in range(5):\n",
    "    image_info = images[i]\n",
    "    image_url = image_info['coco_url']\n",
    "    image_id = image_info['id']\n",
    "    file_name = f\"{output_dir}/{image_id}.jpg\"\n",
    "\n",
    "    # Send a request to download the image\n",
    "    response = requests.get(image_url)\n",
    "\n",
    "    # Save the image to the specified file path\n",
    "    with open(file_name, 'wb') as file:\n",
    "        file.write(response.content)\n",
    "        print(f\"Image saved: {file_name}\")\n"
   ]
  },
  {
   "cell_type": "code",
   "execution_count": 20,
   "id": "18ab1bcc",
   "metadata": {},
   "outputs": [
    {
     "data": {
      "text/plain": [
       "10"
      ]
     },
     "execution_count": 20,
     "metadata": {},
     "output_type": "execute_result"
    }
   ],
   "source": [
    "coco_data['annotations'][0]['num_keypoints']"
   ]
  },
  {
   "cell_type": "code",
   "execution_count": 23,
   "id": "00995d1b",
   "metadata": {
    "scrolled": true
   },
   "outputs": [
    {
     "data": {
      "text/plain": [
       "{'license': 1,\n",
       " 'file_name': '000000037777.jpg',\n",
       " 'coco_url': 'http://images.cocodataset.org/val2017/000000037777.jpg',\n",
       " 'height': 230,\n",
       " 'width': 352,\n",
       " 'date_captured': '2013-11-14 20:55:31',\n",
       " 'flickr_url': 'http://farm9.staticflickr.com/8429/7839199426_f6d48aa585_z.jpg',\n",
       " 'id': 37777}"
      ]
     },
     "execution_count": 23,
     "metadata": {},
     "output_type": "execute_result"
    }
   ],
   "source": [
    "coco_data['images'][1]"
   ]
  },
  {
   "cell_type": "markdown",
   "id": "53192702",
   "metadata": {},
   "source": [
    "# This will download all images having num_keypoints > 10"
   ]
  },
  {
   "cell_type": "code",
   "execution_count": 29,
   "id": "37ec1436",
   "metadata": {
    "scrolled": false
   },
   "outputs": [
    {
     "name": "stdout",
     "output_type": "stream",
     "text": [
      "Image saved: coco_images//397133.jpg\n",
      "Image saved: coco_images//37777.jpg\n",
      "Image saved: coco_images//252219.jpg\n",
      "Image saved: coco_images//87038.jpg\n",
      "Image saved: coco_images//174482.jpg\n"
     ]
    }
   ],
   "source": [
    "# Directory to save the download images\n",
    "output_dir = 'coco_images/'\n",
    "\n",
    "# Create the output directory \n",
    "os.makedirs(output_dir, exist_ok=True)\n",
    "\n",
    "# Get the list of annotations\n",
    "annotations = coco_data['annotations']\n",
    "\n",
    "# Create a set to store image IDs with num_keypoints > 10\n",
    "valid_image_ids = set()\n",
    "\n",
    "# Iterate over the annotations to find valid image IDs\n",
    "for annotation in annotations:\n",
    "    num_keypoints = annotation['num_keypoints']\n",
    "    if num_keypoints > 10:\n",
    "        image_id = annotation['image_id']\n",
    "        valid_image_ids.add(image_id)\n",
    "\n",
    "# Get the list of images\n",
    "images = coco_data['images']\n",
    "\n",
    "# Download images with valid image IDs\n",
    "# Download the first five images If you want to download all, just remove the counter\n",
    "counter = 0\n",
    "for image_info in images:\n",
    "    if counter >= 5:\n",
    "        break\n",
    "\n",
    "    image_id = image_info['id']\n",
    "    image_url = image_info['coco_url']\n",
    "    file_name = f\"{output_dir}/{image_id}.jpg\"\n",
    "\n",
    "    # Send a request to download the image\n",
    "    response = requests.get(image_url)\n",
    "\n",
    "    # Save the image to the specified file path\n",
    "    with open(file_name, 'wb') as file:\n",
    "        file.write(response.content)\n",
    "        print(f\"Image saved: {file_name}\")\n",
    "\n",
    "    counter += 1"
   ]
  },
  {
   "cell_type": "markdown",
   "id": "041b0c40",
   "metadata": {},
   "source": [
    "# Selecting those images that have persons in them"
   ]
  },
  {
   "cell_type": "code",
   "execution_count": 3,
   "id": "fbf82ba9",
   "metadata": {},
   "outputs": [
    {
     "name": "stdout",
     "output_type": "stream",
     "text": [
      "loading annotations into memory...\n",
      "Done (t=9.26s)\n",
      "creating index...\n",
      "index created!\n",
      "loading annotations into memory...\n",
      "Done (t=1.17s)\n",
      "creating index...\n",
      "index created!\n",
      "Filtered Train Images: 64115\n",
      "Filtered Val Images: 2693\n"
     ]
    }
   ],
   "source": [
    "from pycocotools.coco import COCO\n",
    "\n",
    "# Path to the JSON annotation files\n",
    "train_annotation_file = '../../extra/coco_json/person_keypoints_train2017.json'\n",
    "val_annotation_file = '../../extra/coco_json/person_keypoints_val2017.json'\n",
    "\n",
    "# Initialize COCO instances for train and val annotations\n",
    "coco_train = COCO(train_annotation_file)\n",
    "coco_val = COCO(val_annotation_file)\n",
    "\n",
    "# Filter images in the train set\n",
    "train_image_ids = coco_train.getImgIds(catIds=coco_train.getCatIds('person'))\n",
    "filtered_train_image_ids = []\n",
    "for image_id in train_image_ids:\n",
    "    ann_ids = coco_train.getAnnIds(imgIds=image_id, iscrowd=None)\n",
    "    annotations = coco_train.loadAnns(ann_ids)\n",
    "    if any(annotation['category_id'] == 1 for annotation in annotations):  # Person category ID is 1\n",
    "        filtered_train_image_ids.append(image_id)\n",
    "\n",
    "# Filter images in the validation set\n",
    "val_image_ids = coco_val.getImgIds(catIds=coco_val.getCatIds('person'))\n",
    "filtered_val_image_ids = []\n",
    "for image_id in val_image_ids:\n",
    "    ann_ids = coco_val.getAnnIds(imgIds=image_id, iscrowd=None)\n",
    "    annotations = coco_val.loadAnns(ann_ids)\n",
    "    if any(annotation['category_id'] == 1 for annotation in annotations):  # Person category ID is 1\n",
    "        filtered_val_image_ids.append(image_id)\n",
    "\n",
    "# Print the number of filtered images in train and val sets\n",
    "print(f\"Filtered Train Images: {len(filtered_train_image_ids)}\")\n",
    "print(f\"Filtered Val Images: {len(filtered_val_image_ids)}\")\n"
   ]
  },
  {
   "cell_type": "code",
   "execution_count": 1,
   "id": "64ae34e8",
   "metadata": {},
   "outputs": [],
   "source": [
    "from ultralytics.yolo.data.converter import convert_coco\n",
    "\n",
    "convert_coco(labels_dir='../../extra/coco_json/person_keypoints_train2017.json', use_keypoints=True)"
   ]
  },
  {
   "cell_type": "code",
   "execution_count": null,
   "id": "9bd5ec42",
   "metadata": {},
   "outputs": [],
   "source": []
  }
 ],
 "metadata": {
  "kernelspec": {
   "display_name": "Python 3 (ipykernel)",
   "language": "python",
   "name": "python3"
  },
  "language_info": {
   "codemirror_mode": {
    "name": "ipython",
    "version": 3
   },
   "file_extension": ".py",
   "mimetype": "text/x-python",
   "name": "python",
   "nbconvert_exporter": "python",
   "pygments_lexer": "ipython3",
   "version": "3.10.9"
  }
 },
 "nbformat": 4,
 "nbformat_minor": 5
}
