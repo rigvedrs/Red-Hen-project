{
 "cells": [
  {
   "cell_type": "code",
   "execution_count": 5,
   "id": "d487fe19",
   "metadata": {},
   "outputs": [],
   "source": [
    "import json\n",
    "import requests\n",
    "import os"
   ]
  },
  {
   "cell_type": "code",
   "execution_count": 8,
   "id": "94034960",
   "metadata": {},
   "outputs": [],
   "source": [
    "coco_json_path = '../../extra/coco_json/person_keypoints_val2017.json'\n",
    "\n",
    "with open(coco_json_path, 'r') as file:\n",
    "    coco_data = json.load(file)"
   ]
  },
  {
   "cell_type": "code",
   "execution_count": 9,
   "id": "b28f09e4",
   "metadata": {},
   "outputs": [
    {
     "data": {
      "text/plain": [
       "dict_keys(['info', 'licenses', 'images', 'annotations', 'categories'])"
      ]
     },
     "execution_count": 9,
     "metadata": {},
     "output_type": "execute_result"
    }
   ],
   "source": [
    "data.keys()"
   ]
  },
  {
   "cell_type": "code",
   "execution_count": 10,
   "id": "1aa082be",
   "metadata": {},
   "outputs": [
    {
     "name": "stdout",
     "output_type": "stream",
     "text": [
      "Image saved: coco_images//397133.jpg\n",
      "Image saved: coco_images//37777.jpg\n",
      "Image saved: coco_images//252219.jpg\n",
      "Image saved: coco_images//87038.jpg\n",
      "Image saved: coco_images//174482.jpg\n"
     ]
    }
   ],
   "source": [
    "# Directory to save the download images\n",
    "output_dir = 'coco_images/'\n",
    "\n",
    "# Create the output directory \n",
    "os.makedirs(output_dir, exist_ok=True)\n",
    "\n",
    "# Get the list of images\n",
    "images = coco_data['images']\n",
    "\n",
    "# Download the first five images\n",
    "for i in range(5):\n",
    "    image_info = images[i]\n",
    "    image_url = image_info['coco_url']\n",
    "    image_id = image_info['id']\n",
    "    file_name = f\"{output_dir}/{image_id}.jpg\"\n",
    "\n",
    "    # Send a request to download the image\n",
    "    response = requests.get(image_url)\n",
    "\n",
    "    # Save the image to the specified file path\n",
    "    with open(file_name, 'wb') as file:\n",
    "        file.write(response.content)\n",
    "        print(f\"Image saved: {file_name}\")\n"
   ]
  },
  {
   "cell_type": "code",
   "execution_count": 20,
   "id": "18ab1bcc",
   "metadata": {},
   "outputs": [
    {
     "data": {
      "text/plain": [
       "10"
      ]
     },
     "execution_count": 20,
     "metadata": {},
     "output_type": "execute_result"
    }
   ],
   "source": [
    "coco_data['annotations'][0]['num_keypoints']"
   ]
  },
  {
   "cell_type": "code",
   "execution_count": 23,
   "id": "00995d1b",
   "metadata": {
    "scrolled": true
   },
   "outputs": [
    {
     "data": {
      "text/plain": [
       "{'license': 1,\n",
       " 'file_name': '000000037777.jpg',\n",
       " 'coco_url': 'http://images.cocodataset.org/val2017/000000037777.jpg',\n",
       " 'height': 230,\n",
       " 'width': 352,\n",
       " 'date_captured': '2013-11-14 20:55:31',\n",
       " 'flickr_url': 'http://farm9.staticflickr.com/8429/7839199426_f6d48aa585_z.jpg',\n",
       " 'id': 37777}"
      ]
     },
     "execution_count": 23,
     "metadata": {},
     "output_type": "execute_result"
    }
   ],
   "source": [
    "coco_data['images'][1]"
   ]
  },
  {
   "cell_type": "markdown",
   "id": "53192702",
   "metadata": {},
   "source": [
    "# This will download all images having num_keypoints > 10"
   ]
  },
  {
   "cell_type": "code",
   "execution_count": 29,
   "id": "37ec1436",
   "metadata": {
    "scrolled": false
   },
   "outputs": [
    {
     "name": "stdout",
     "output_type": "stream",
     "text": [
      "Image saved: coco_images//397133.jpg\n",
      "Image saved: coco_images//37777.jpg\n",
      "Image saved: coco_images//252219.jpg\n",
      "Image saved: coco_images//87038.jpg\n",
      "Image saved: coco_images//174482.jpg\n"
     ]
    }
   ],
   "source": [
    "# Directory to save the download images\n",
    "output_dir = 'coco_images/'\n",
    "\n",
    "# Create the output directory \n",
    "os.makedirs(output_dir, exist_ok=True)\n",
    "\n",
    "# Get the list of annotations\n",
    "annotations = coco_data['annotations']\n",
    "\n",
    "# Create a set to store image IDs with num_keypoints > 10\n",
    "valid_image_ids = set()\n",
    "\n",
    "# Iterate over the annotations to find valid image IDs\n",
    "for annotation in annotations:\n",
    "    num_keypoints = annotation['num_keypoints']\n",
    "    if num_keypoints > 10:\n",
    "        image_id = annotation['image_id']\n",
    "        valid_image_ids.add(image_id)\n",
    "\n",
    "# Get the list of images\n",
    "images = coco_data['images']\n",
    "\n",
    "# Download images with valid image IDs\n",
    "# Download the first five images If you want to download all, just remove the counter\n",
    "counter = 0\n",
    "for image_info in images:\n",
    "    if counter >= 5:\n",
    "        break\n",
    "\n",
    "    image_id = image_info['id']\n",
    "    image_url = image_info['coco_url']\n",
    "    file_name = f\"{output_dir}/{image_id}.jpg\"\n",
    "\n",
    "    # Send a request to download the image\n",
    "    response = requests.get(image_url)\n",
    "\n",
    "    # Save the image to the specified file path\n",
    "    with open(file_name, 'wb') as file:\n",
    "        file.write(response.content)\n",
    "        print(f\"Image saved: {file_name}\")\n",
    "\n",
    "    counter += 1"
   ]
  },
  {
   "cell_type": "code",
   "execution_count": null,
   "id": "76617312",
   "metadata": {},
   "outputs": [],
   "source": []
  }
 ],
 "metadata": {
  "kernelspec": {
   "display_name": "Python 3 (ipykernel)",
   "language": "python",
   "name": "python3"
  },
  "language_info": {
   "codemirror_mode": {
    "name": "ipython",
    "version": 3
   },
   "file_extension": ".py",
   "mimetype": "text/x-python",
   "name": "python",
   "nbconvert_exporter": "python",
   "pygments_lexer": "ipython3",
   "version": "3.10.9"
  }
 },
 "nbformat": 4,
 "nbformat_minor": 5
}
