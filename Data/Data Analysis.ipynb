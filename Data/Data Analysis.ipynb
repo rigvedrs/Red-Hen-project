{
 "cells": [
  {
   "cell_type": "markdown",
   "id": "703eedb5",
   "metadata": {},
   "source": [
    "# Analysing Scraped data"
   ]
  },
  {
   "cell_type": "code",
   "execution_count": null,
   "id": "e626c9eb",
   "metadata": {},
   "outputs": [],
   "source": [
    "import pandas as pd"
   ]
  },
  {
   "cell_type": "code",
   "execution_count": null,
   "id": "dd5e474b",
   "metadata": {},
   "outputs": [],
   "source": [
    "file_path = 'csv_files/metadata_v2.csv'\n",
    "\n",
    "# Read the CSV file into a Pandas DataFrame\n",
    "df = pd.read_csv(file_path)"
   ]
  },
  {
   "cell_type": "code",
   "execution_count": null,
   "id": "4d18a952",
   "metadata": {
    "scrolled": false
   },
   "outputs": [],
   "source": [
    "df.head()"
   ]
  },
  {
   "cell_type": "code",
   "execution_count": null,
   "id": "1b9d75a2",
   "metadata": {},
   "outputs": [],
   "source": [
    "unique_techniques = df['TECHNIQUE'].unique()\n",
    "for i in unique_techniques:\n",
    "    print(i)"
   ]
  },
  {
   "cell_type": "code",
   "execution_count": null,
   "id": "d7c76568",
   "metadata": {},
   "outputs": [],
   "source": [
    "df['TECHNIQUE'] = df['TECHNIQUE'].str.split(',').str[0].str.strip()"
   ]
  },
  {
   "cell_type": "code",
   "execution_count": null,
   "id": "916292f1",
   "metadata": {},
   "outputs": [],
   "source": [
    "unique_techniques = df['TECHNIQUE'].unique()\n",
    "for i in unique_techniques:\n",
    "    print(i)"
   ]
  },
  {
   "cell_type": "code",
   "execution_count": null,
   "id": "453a5c75",
   "metadata": {
    "scrolled": true
   },
   "outputs": [],
   "source": [
    "filtered_df = df[df['TECHNIQUE'].fillna('').str.contains('oil', case=False)]\n",
    "filtered_df.head()"
   ]
  },
  {
   "cell_type": "code",
   "execution_count": null,
   "id": "cb3fce26",
   "metadata": {},
   "outputs": [],
   "source": [
    "len(filtered_df)"
   ]
  },
  {
   "cell_type": "code",
   "execution_count": null,
   "id": "c3f2922f",
   "metadata": {},
   "outputs": [],
   "source": [
    "filtered_df_2 = df[df['TITLE'].fillna('').str.contains('Virgin', case=False)]\n",
    "filtered_df_2.head()"
   ]
  },
  {
   "cell_type": "code",
   "execution_count": null,
   "id": "22a87f16",
   "metadata": {},
   "outputs": [],
   "source": [
    "len(filtered_df_2)"
   ]
  },
  {
   "cell_type": "code",
   "execution_count": null,
   "id": "562b7257",
   "metadata": {
    "scrolled": true
   },
   "outputs": [],
   "source": [
    "print(filtered_df_2['TITLE'])"
   ]
  },
  {
   "cell_type": "markdown",
   "id": "3ca6ca0a",
   "metadata": {},
   "source": [
    "# Analysing COCO data"
   ]
  },
  {
   "cell_type": "code",
   "execution_count": 6,
   "id": "baa93999",
   "metadata": {},
   "outputs": [],
   "source": [
    "import json"
   ]
  },
  {
   "cell_type": "code",
   "execution_count": 7,
   "id": "45de2709",
   "metadata": {},
   "outputs": [],
   "source": [
    "coco_json_path = '../extra/coco_json/person_keypoints_val2017.json'\n",
    "\n",
    "with open(coco_json_path) as f:\n",
    "    data = json.load(f)"
   ]
  },
  {
   "cell_type": "code",
   "execution_count": 8,
   "id": "487cc550",
   "metadata": {},
   "outputs": [
    {
     "data": {
      "text/plain": [
       "dict_keys(['info', 'licenses', 'images', 'annotations', 'categories'])"
      ]
     },
     "execution_count": 8,
     "metadata": {},
     "output_type": "execute_result"
    }
   ],
   "source": [
    "data.keys()"
   ]
  },
  {
   "cell_type": "code",
   "execution_count": 9,
   "id": "5fcead6e",
   "metadata": {},
   "outputs": [
    {
     "data": {
      "text/plain": [
       "5000"
      ]
     },
     "execution_count": 9,
     "metadata": {},
     "output_type": "execute_result"
    }
   ],
   "source": [
    "len(data['images'])"
   ]
  },
  {
   "cell_type": "code",
   "execution_count": 10,
   "id": "d38f624a",
   "metadata": {},
   "outputs": [
    {
     "data": {
      "text/plain": [
       "{'license': 4,\n",
       " 'file_name': '000000397133.jpg',\n",
       " 'coco_url': 'http://images.cocodataset.org/val2017/000000397133.jpg',\n",
       " 'height': 427,\n",
       " 'width': 640,\n",
       " 'date_captured': '2013-11-14 17:02:52',\n",
       " 'flickr_url': 'http://farm7.staticflickr.com/6116/6255196340_da26cf2c9e_z.jpg',\n",
       " 'id': 397133}"
      ]
     },
     "execution_count": 10,
     "metadata": {},
     "output_type": "execute_result"
    }
   ],
   "source": [
    "data['images'][0]"
   ]
  },
  {
   "cell_type": "markdown",
   "id": "03688254",
   "metadata": {},
   "source": [
    "## Store only if keypoints are there"
   ]
  },
  {
   "cell_type": "code",
   "execution_count": null,
   "id": "0d5b7bf2",
   "metadata": {
    "scrolled": true
   },
   "outputs": [],
   "source": [
    "from pycocotools.coco import COCO\n",
    "\n",
    "# Create COCO instance\n",
    "coco = COCO(coco_json_path)\n"
   ]
  },
  {
   "cell_type": "code",
   "execution_count": null,
   "id": "5fa1b95d",
   "metadata": {},
   "outputs": [],
   "source": [
    "image_ids = []\n",
    "for ann_id in coco.anns:\n",
    "    ann = coco.anns[ann_id]\n",
    "    if \"keypoints\" in ann and ann[\"keypoints\"]:\n",
    "        image_ids.append(ann[\"image_id\"])\n"
   ]
  },
  {
   "cell_type": "code",
   "execution_count": null,
   "id": "274a5ecd",
   "metadata": {},
   "outputs": [],
   "source": [
    "image_filenames = []\n",
    "for image_id in image_ids:\n",
    "    image_info = coco.loadImgs(image_id)[0]\n",
    "    image_filenames.append(image_info[\"file_name\"])"
   ]
  },
  {
   "cell_type": "markdown",
   "id": "3706a664",
   "metadata": {},
   "source": [
    "## Download the required data"
   ]
  },
  {
   "cell_type": "code",
   "execution_count": null,
   "id": "4debd4b9",
   "metadata": {},
   "outputs": [],
   "source": [
    "import requests\n",
    "\n",
    "# Directory to save the downloaded images\n",
    "save_directory = '../extra/pics/'"
   ]
  },
  {
   "cell_type": "code",
   "execution_count": null,
   "id": "f4c73c63",
   "metadata": {},
   "outputs": [],
   "source": [
    "# # Iterate over selected image IDs and download the images\n",
    "# for image_id in image_ids:\n",
    "#     image_info = coco.loadImgs(image_id)[0]\n",
    "#     image_url = image_info[\"coco_url\"]\n",
    "#     image_filename = image_info[\"file_name\"]\n",
    "#     save_path = save_directory + image_filename\n",
    "    \n",
    "#     response = requests.get(image_url, stream=True)\n",
    "#     response.raise_for_status()\n",
    "    \n",
    "#     with open(save_path, \"wb\") as f:\n",
    "#         for chunk in response.iter_content(chunk_size=8192):\n",
    "#             f.write(chunk)"
   ]
  },
  {
   "cell_type": "code",
   "execution_count": null,
   "id": "fa157161",
   "metadata": {},
   "outputs": [],
   "source": [
    "image_info = coco.loadImgs(image_ids[1])[0]\n",
    "image_url = image_info[\"coco_url\"]\n",
    "image_filename = image_info[\"file_name\"]\n",
    "save_path = save_directory + image_filename\n",
    "\n",
    "response = requests.get(image_url, stream=True)\n",
    "response.raise_for_status()\n",
    "\n",
    "with open(save_path, \"wb\") as f:\n",
    "    for chunk in response.iter_content(chunk_size=8192):\n",
    "        f.write(chunk)"
   ]
  },
  {
   "cell_type": "code",
   "execution_count": null,
   "id": "4c15b290",
   "metadata": {},
   "outputs": [],
   "source": [
    "image_info = coco.loadImgs(image_ids[1])[0]\n",
    "image_url = image_info[\"coco_url\"]\n",
    "image_filename = '000000000139.jpg'\n",
    "save_path = save_directory + image_filename\n",
    "\n",
    "response = requests.get(image_url, stream=True)\n",
    "response.raise_for_status()\n",
    "\n",
    "with open(save_path, \"wb\") as f:\n",
    "    for chunk in response.iter_content(chunk_size=8192):\n",
    "        f.write(chunk)"
   ]
  },
  {
   "cell_type": "markdown",
   "id": "19854b6a",
   "metadata": {},
   "source": [
    "## Changing size of image and annotations"
   ]
  },
  {
   "cell_type": "code",
   "execution_count": null,
   "id": "854f6271",
   "metadata": {},
   "outputs": [],
   "source": [
    "# orig_image_ids = image_ids"
   ]
  },
  {
   "cell_type": "code",
   "execution_count": null,
   "id": "0fb78388",
   "metadata": {},
   "outputs": [],
   "source": [
    "image_ids = orig_image_ids"
   ]
  },
  {
   "cell_type": "code",
   "execution_count": null,
   "id": "99020108",
   "metadata": {},
   "outputs": [],
   "source": [
    "image_ids = image_ids[:2]"
   ]
  },
  {
   "cell_type": "code",
   "execution_count": null,
   "id": "697490df",
   "metadata": {},
   "outputs": [],
   "source": [
    "image_ids"
   ]
  },
  {
   "cell_type": "code",
   "execution_count": null,
   "id": "0ed0b2fb",
   "metadata": {},
   "outputs": [],
   "source": [
    "import cv2\n",
    "import json\n",
    "\n",
    "# Directory to save the resized images\n",
    "save_directory = '../extra/resized_pics/'\n",
    "\n",
    "# Directory to save the adjusted keypoints\n",
    "keypoints_directory = '../extra/resized_keypoints/'\n",
    "\n",
    "# Desired size\n",
    "target_size = (640, 640)"
   ]
  },
  {
   "cell_type": "code",
   "execution_count": null,
   "id": "65903fb7",
   "metadata": {},
   "outputs": [],
   "source": [
    "# # Iterate over selected image IDs\n",
    "# for image_id in image_ids:\n",
    "#     image_info = coco.loadImgs(image_id)[0]\n",
    "#     image_path = '../../extra/pics/' + image_info[\"file_name\"]\n",
    "#     save_path = save_directory + image_info[\"file_name\"]\n",
    "#     keypoints_path = keypoints_directory + image_info[\"file_name\"] + \".json\"\n",
    "    \n",
    "#     # Load the image\n",
    "#     image = cv2.imread(image_path)\n",
    "    \n",
    "#     # Resize the image\n",
    "#     resized_image = cv2.resize(image, target_size)\n",
    "    \n",
    "#     # Scale and adjust the keypoints\n",
    "#     keypoints = coco.loadAnns(coco.getAnnIds(image_id))\n",
    "#     adjusted_keypoints = []\n",
    "#     for kp in keypoints:\n",
    "#         # Scale and adjust x, y coordinates\n",
    "#         adjusted_x = int(kp[\"keypoints\"][::3] * target_size[0] / image.shape[1])\n",
    "#         adjusted_y = int(kp[\"keypoints\"][1::3] * target_size[1] / image.shape[0])\n",
    "#         adjusted_keypoints.extend([adjusted_x, adjusted_y, kp[\"keypoints\"][2::3]])\n",
    "    \n",
    "#     # Save the resized image\n",
    "#     cv2.imwrite(save_path, resized_image)\n",
    "    \n",
    "#     # Save the adjusted keypoints\n",
    "#     with open(keypoints_path, \"w\") as f:\n",
    "#         json.dump(adjusted_keypoints, f)"
   ]
  },
  {
   "cell_type": "code",
   "execution_count": null,
   "id": "ce383544",
   "metadata": {},
   "outputs": [],
   "source": [
    "image_id = image_ids[0]\n",
    "image_info = coco.loadImgs(image_id)[0]\n",
    "image_path = '../extra/pics/' + image_info[\"file_name\"]\n",
    "save_path = save_directory + image_info[\"file_name\"]\n",
    "keypoints_path = keypoints_directory + image_info[\"file_name\"] + \".json\"\n",
    "\n",
    "# Load the image\n",
    "image = cv2.imread(image_path)\n",
    "\n",
    "# Resize the image\n",
    "resized_image = cv2.resize(image, target_size)\n",
    "\n",
    "# Scale and adjust the keypoints\n",
    "keypoints = coco.loadAnns(coco.getAnnIds(image_id))\n",
    "adjusted_keypoints = []\n",
    "for kp in keypoints:\n",
    "    # Scale and adjust x, y coordinates\n",
    "    adjusted_x = [int(x * target_size[0] / image.shape[1]) for x in kp[\"keypoints\"][::3]]\n",
    "    adjusted_y = [int(y * target_size[1] / image.shape[0]) for y in kp[\"keypoints\"][1::3]]\n",
    "    adjusted_keypoints.extend([x, y, v] for x, y, v in zip(adjusted_x, adjusted_y, kp[\"keypoints\"][2::3]))\n",
    "\n",
    "# Save the resized image\n",
    "cv2.imwrite(save_path, resized_image)\n",
    "\n",
    "# Save the adjusted keypoints\n",
    "with open(keypoints_path, \"w\") as f:\n",
    "    json.dump(adjusted_keypoints, f)"
   ]
  },
  {
   "cell_type": "code",
   "execution_count": null,
   "id": "de2ca3d7",
   "metadata": {},
   "outputs": [],
   "source": [
    "image_info[\"file_name\"]"
   ]
  },
  {
   "cell_type": "code",
   "execution_count": null,
   "id": "487be659",
   "metadata": {},
   "outputs": [],
   "source": [
    "'000000000139.jpg'"
   ]
  },
  {
   "cell_type": "code",
   "execution_count": null,
   "id": "f4fa829b",
   "metadata": {},
   "outputs": [],
   "source": []
  },
  {
   "cell_type": "code",
   "execution_count": null,
   "id": "c8fcb240",
   "metadata": {},
   "outputs": [],
   "source": [
    "import cv2\n",
    "import matplotlib.pyplot as plt\n",
    "\n",
    "# Keypoint data\n",
    "keypoints = [\n",
    "    [0.686445, 0.531960, 0.082891],\n",
    "    [0.323967, 0.667188, 0.399061],\n",
    "    [1.000000, 0.670312, 0.396714],\n",
    "    [2.000000, 0.000000, 0.000000],\n",
    "    [0.678125, 0.394366, 2.000000],\n",
    "    [0.000000, 0.000000, 0.000000],\n",
    "    [0.689063, 0.415493, 2.000000],\n",
    "    [0.696875, 0.415493, 2.000000],\n",
    "    [0.682813, 0.469484, 2.000000],\n",
    "    [0.671875, 0.483568, 2.000000],\n",
    "    [0.671875, 0.516432, 2.000000],\n",
    "    [0.656250, 0.504695, 2.000000],\n",
    "    [0.695312, 0.530516, 2.000000],\n",
    "    [0.706250, 0.523474, 2.000000],\n",
    "    [0.698438, 0.610329, 2.000000],\n",
    "    [0.709375, 0.603286, 2.000000],\n",
    "    [0.710938, 0.680751, 2.000000],\n",
    "    [0.717187, 0.671362, 2.000000]\n",
    "]\n",
    "\n",
    "# Load the image\n",
    "image_path = save_directory + '000000000139.jpg'\n",
    "image = cv2.imread(image_path)\n",
    "\n",
    "# Display the image\n",
    "plt.imshow(cv2.cvtColor(image, cv2.COLOR_BGR2RGB))\n",
    "\n",
    "# Plot the keypoints on the image\n",
    "for x, y, _ in keypoints:\n",
    "    # Convert the relative coordinates to image coordinates\n",
    "    img_x = int(x * image.shape[1])\n",
    "    img_y = int(y * image.shape[0])\n",
    "    \n",
    "    # Draw a circle to represent the keypoint\n",
    "    cv2.circle(image, (img_x, img_y), 5, (0, 255, 0), -1)\n",
    "\n",
    "# Show the image with keypoints\n",
    "plt.imshow(cv2.cvtColor(image, cv2.COLOR_BGR2RGB))\n",
    "plt.axis('off')\n",
    "plt.show()\n"
   ]
  },
  {
   "cell_type": "code",
   "execution_count": null,
   "id": "a686dd4c",
   "metadata": {},
   "outputs": [],
   "source": [
    "import cv2\n",
    "import matplotlib.pyplot as plt\n",
    "\n",
    "# Keypoint data\n",
    "keypoints = [\n",
    "    \"class_name\",\n",
    "    0.686445, 0.531960, 0.082891, 0.323967, 0.667188, 0.399061,\n",
    "    1.000000, 0.670312, 0.396714, 2.000000, 0.000000, 0.000000, 0.000000,\n",
    "    0.678125, 0.394366, 2.000000, 0.000000, 0.000000, 0.000000,\n",
    "    0.689063, 0.415493, 2.000000, 0.696875, 0.415493, 2.000000,\n",
    "    0.682813, 0.469484, 2.000000, 0.671875, 0.483568, 2.000000,\n",
    "    0.671875, 0.516432, 2.000000, 0.656250, 0.504695, 2.000000,\n",
    "    0.695312, 0.530516, 2.000000, 0.706250, 0.523474, 2.000000,\n",
    "    0.698438, 0.610329, 2.000000, 0.709375, 0.603286, 2.000000,\n",
    "    0.710938, 0.680751, 2.000000, 0.717187, 0.671362, 2.000000\n",
    "]\n",
    "\n",
    "# Load the image\n",
    "image_path = save_directory + '000000000139.jpg'\n",
    "image = cv2.imread(image_path)\n",
    "\n",
    "# Display the image\n",
    "plt.imshow(cv2.cvtColor(image, cv2.COLOR_BGR2RGB))\n",
    "\n",
    "# Extract bounding box labels\n",
    "class_name = keypoints[0]\n",
    "bbox_labels = keypoints[1:5]\n",
    "x_min, y_min, x_max, y_max = bbox_labels\n",
    "\n",
    "# Draw the bounding box\n",
    "image_h, image_w, _ = image.shape\n",
    "x_min_abs = int(x_min * image_w)\n",
    "y_min_abs = int(y_min * image_h)\n",
    "x_max_abs = int(x_max * image_w)\n",
    "y_max_abs = int(y_max * image_h)\n",
    "cv2.rectangle(image, (x_min_abs, y_min_abs), (x_max_abs, y_max_abs), (0, 255, 0), 2)\n",
    "\n",
    "# Plot the keypoints on the image\n",
    "for i in range(5, len(keypoints), 3):\n",
    "    x, y, v = keypoints[i:i+3]\n",
    "    \n",
    "    if v == 0:\n",
    "        continue  # Skip keypoints with visibility 0\n",
    "    \n",
    "    # Convert the relative coordinates to image coordinates\n",
    "    img_x = int(x * image_w)\n",
    "    img_y = int(y * image_h)\n",
    "    \n",
    "    # Draw a circle to represent the keypoint\n",
    "    cv2.circle(image, (img_x, img_y), 5, (0, 0, 255), -1)\n",
    "\n",
    "# Show the image with keypoints\n",
    "plt.imshow(cv2.cvtColor(image, cv2.COLOR_BGR2RGB))\n",
    "plt.axis('off')\n",
    "plt.show()\n"
   ]
  },
  {
   "cell_type": "code",
   "execution_count": null,
   "id": "c812227d",
   "metadata": {},
   "outputs": [],
   "source": [
    "print(x_min_abs)"
   ]
  },
  {
   "cell_type": "code",
   "execution_count": null,
   "id": "a9117af6",
   "metadata": {},
   "outputs": [],
   "source": [
    "save_directory + image_info[\"file_name\"]"
   ]
  },
  {
   "cell_type": "code",
   "execution_count": null,
   "id": "0e2f8cff",
   "metadata": {},
   "outputs": [],
   "source": [
    "coco.loadImgs(image_ids[0])[0]"
   ]
  },
  {
   "cell_type": "code",
   "execution_count": null,
   "id": "e97cda33",
   "metadata": {},
   "outputs": [],
   "source": [
    "image_ids = []\n",
    "for ann_id in coco.anns:\n",
    "    ann = coco.anns[ann_id]\n",
    "    if \"keypoints\" in ann and ann[\"keypoints\"]:\n",
    "        image_ids.append(ann[\"image_id\"])"
   ]
  },
  {
   "cell_type": "code",
   "execution_count": null,
   "id": "191b7140",
   "metadata": {},
   "outputs": [],
   "source": [
    "coco.anns[183126]['keypoints']"
   ]
  },
  {
   "cell_type": "code",
   "execution_count": null,
   "id": "55d22c34",
   "metadata": {},
   "outputs": [],
   "source": [
    "coco.anns[183126]['bbox']"
   ]
  },
  {
   "cell_type": "code",
   "execution_count": null,
   "id": "5db8ac79",
   "metadata": {},
   "outputs": [],
   "source": [
    "coco.anns[183126]['num_keypoints']"
   ]
  },
  {
   "cell_type": "markdown",
   "id": "50bb433d",
   "metadata": {},
   "source": [
    "# COCO to YOLO V8 annotations"
   ]
  },
  {
   "cell_type": "code",
   "execution_count": null,
   "id": "a0dcdcd7",
   "metadata": {},
   "outputs": [],
   "source": [
    "import os\n",
    "import json\n",
    "\n",
    "# Path to COCO annotation file\n",
    "coco_annotation_file = 'path/to/your/coco/annotations.json'\n",
    "\n",
    "# Output directory for label files\n",
    "out_dir = 'path/to/output/label/files'\n",
    "os.makedirs(out_dir, exist_ok=True)\n",
    "\n",
    "# Load COCO annotations\n",
    "with open(coco_annotation_file, 'r') as f:\n",
    "    coco_data = json.load(f)\n",
    "\n",
    "# Iterate over COCO annotations\n",
    "for annotation in coco_data['annotations']:\n",
    "    image_id = annotation['image_id']\n",
    "    image_file_name = coco_data['images'][image_id]['file_name']\n",
    "    image_width = coco_data['images'][image_id]['width']\n",
    "    image_height = coco_data['images'][image_id]['height']\n",
    "    keypoints = annotation['keypoints']\n",
    "\n",
    "    # Create label file\n",
    "    label_file_path = os.path.join(out_dir, os.path.splitext(image_file_name)[0] + '.txt')\n",
    "    label_file = open(label_file_path, 'w')\n",
    "\n",
    "    # Write class label and bounding box to label file\n",
    "    label_file.write('0 ')\n",
    "\n",
    "    bbox = annotation['bbox']\n",
    "    x_center = (bbox[0] + bbox[2] / 2) / image_width\n",
    "    y_center = (bbox[1] + bbox[3] / 2) / image_height\n",
    "    width = bbox[2] / image_width\n",
    "    height = bbox[3] / image_height\n",
    "\n",
    "    label_file.write(f\"{x_center:.6f} {y_center:.6f} {width:.6f} {height:.6f} \")\n",
    "\n",
    "    # Write keypoints to label file\n",
    "    for i in range(0, len(keypoints), 3):\n",
    "        x = keypoints[i] / image_width\n",
    "        y = keypoints[i+1] / image_height\n",
    "        v = keypoints[i+2]\n",
    "\n",
    "        label_file.write(f\"{x:.6f} {y:.6f} {v} \")\n",
    "\n",
    "    label_file.close()\n",
    "\n",
    "    print(f\"Converted COCO keypoints to label file: {label_file_path}\")\n"
   ]
  }
 ],
 "metadata": {
  "kernelspec": {
   "display_name": "Python 3 (ipykernel)",
   "language": "python",
   "name": "python3"
  },
  "language_info": {
   "codemirror_mode": {
    "name": "ipython",
    "version": 3
   },
   "file_extension": ".py",
   "mimetype": "text/x-python",
   "name": "python",
   "nbconvert_exporter": "python",
   "pygments_lexer": "ipython3",
   "version": "3.10.9"
  }
 },
 "nbformat": 4,
 "nbformat_minor": 5
}
