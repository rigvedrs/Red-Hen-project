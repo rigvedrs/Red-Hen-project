{
 "cells": [
  {
   "cell_type": "markdown",
   "id": "e49bcd42",
   "metadata": {},
   "source": [
    "# Creating a demo run of AdaIn"
   ]
  },
  {
   "cell_type": "code",
   "execution_count": 3,
   "id": "20c70d9c",
   "metadata": {},
   "outputs": [
    {
     "name": "stdout",
     "output_type": "stream",
     "text": [
      "AdaIN-style/models/download_models.sh: line 1: cd: models: No such file or directory\n",
      "--2023-05-20 11:20:59--  https://s3.amazonaws.com/xunhuang-public/adain/decoder.t7\n",
      "Resolving s3.amazonaws.com (s3.amazonaws.com)... 52.217.112.184, 52.216.54.80, 52.217.42.118, ...\n",
      "Connecting to s3.amazonaws.com (s3.amazonaws.com)|52.217.112.184|:443... connected.\n",
      "HTTP request sent, awaiting response... 200 OK\n",
      "Length: 28065380 (27M) [binary/octet-stream]\n",
      "Saving to: ‘decoder.t7’\n",
      "\n",
      "decoder.t7          100%[===================>]  26.76M  1.10MB/s    in 25s     \n",
      "\n",
      "2023-05-20 11:21:26 (1.06 MB/s) - ‘decoder.t7’ saved [28065380/28065380]\n",
      "\n",
      "--2023-05-20 11:21:26--  https://s3.amazonaws.com/xunhuang-public/adain/decoder-content-similar.t7\n",
      "Resolving s3.amazonaws.com (s3.amazonaws.com)... 52.216.12.142, 52.216.94.245, 52.216.219.184, ...\n",
      "Connecting to s3.amazonaws.com (s3.amazonaws.com)|52.216.12.142|:443... connected.\n",
      "HTTP request sent, awaiting response... 200 OK\n",
      "Length: 28065380 (27M) [binary/octet-stream]\n",
      "Saving to: ‘decoder-content-similar.t7’\n",
      "\n",
      "decoder-content-sim 100%[===================>]  26.76M  1.09MB/s    in 26s     \n",
      "\n",
      "2023-05-20 11:21:54 (1.05 MB/s) - ‘decoder-content-similar.t7’ saved [28065380/28065380]\n",
      "\n",
      "--2023-05-20 11:21:54--  https://s3.amazonaws.com/xunhuang-public/adain/vgg_normalised.t7\n",
      "Resolving s3.amazonaws.com (s3.amazonaws.com)... 52.217.225.216, 54.231.234.32, 52.216.40.32, ...\n",
      "Connecting to s3.amazonaws.com (s3.amazonaws.com)|52.217.225.216|:443... connected.\n",
      "HTTP request sent, awaiting response... 200 OK\n",
      "Length: 160221189 (153M) [binary/octet-stream]\n",
      "Saving to: ‘vgg_normalised.t7’\n",
      "\n",
      "vgg_normalised.t7   100%[===================>] 152.80M  1.15MB/s    in 2m 21s  \n",
      "\n",
      "2023-05-20 11:24:17 (1.08 MB/s) - ‘vgg_normalised.t7’ saved [160221189/160221189]\n",
      "\n"
     ]
    }
   ],
   "source": [
    "!bash AdaIN-style/models/download_models.sh"
   ]
  },
  {
   "cell_type": "code",
   "execution_count": 15,
   "id": "b0c5f995",
   "metadata": {},
   "outputs": [
    {
     "name": "stdout",
     "output_type": "stream",
     "text": [
      "/bin/bash: line 1: th: command not found\r\n"
     ]
    }
   ],
   "source": [
    "!th test.lua -help"
   ]
  },
  {
   "cell_type": "code",
   "execution_count": null,
   "id": "377d6048",
   "metadata": {},
   "outputs": [],
   "source": []
  }
 ],
 "metadata": {
  "kernelspec": {
   "display_name": "Python 3 (ipykernel)",
   "language": "python",
   "name": "python3"
  },
  "language_info": {
   "codemirror_mode": {
    "name": "ipython",
    "version": 3
   },
   "file_extension": ".py",
   "mimetype": "text/x-python",
   "name": "python",
   "nbconvert_exporter": "python",
   "pygments_lexer": "ipython3",
   "version": "3.10.9"
  }
 },
 "nbformat": 4,
 "nbformat_minor": 5
}
